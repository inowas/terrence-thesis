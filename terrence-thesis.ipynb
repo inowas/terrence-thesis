{
 "cells": [
  {
   "cell_type": "markdown",
   "metadata": {},
   "source": [
    "# Terrence Thesis - Case Study"
   ]
  },
  {
   "cell_type": "markdown",
   "metadata": {},
   "source": [
    "### Import Statements"
   ]
  },
  {
   "cell_type": "code",
   "execution_count": null,
   "metadata": {},
   "outputs": [],
   "source": [
    "import flopy\n",
    "import flopy.modflow as mf\n",
    "import flopy.utils as fu\n",
    "import flopy.utils.binaryfile as bf\n",
    "import matplotlib as mpl \n",
    "import matplotlib.pyplot as plt\n",
    "import numpy as np\n",
    "import os\n",
    "import pandas as pd\n",
    "import platform\n",
    "import shutil\n",
    "import sys\n",
    "\n",
    "%matplotlib inline"
   ]
  },
  {
   "cell_type": "markdown",
   "metadata": {},
   "source": [
    "### Setup folder where modflow-files are located"
   ]
  },
  {
   "cell_type": "code",
   "execution_count": null,
   "metadata": {},
   "outputs": [],
   "source": [
    "workspace = os.path.join('mf-data')"
   ]
  },
  {
   "cell_type": "code",
   "execution_count": null,
   "metadata": {},
   "outputs": [],
   "source": [
    "if os.path.exists(workspace):\n",
    "    shutil.rmtree(workspace)\n",
    "\n",
    "if not os.path.exists(workspace):\n",
    "    os.makedirs(workspace)"
   ]
  },
  {
   "cell_type": "markdown",
   "metadata": {},
   "source": [
    "### Print versions"
   ]
  },
  {
   "cell_type": "code",
   "execution_count": null,
   "metadata": {},
   "outputs": [],
   "source": [
    "print(sys.version)\n",
    "print('numpy version: {}'.format(np.__version__))\n",
    "print('matplotlib version: {}'.format(mpl.__version__))\n",
    "print('flopy version: {}'.format(flopy.__version__))"
   ]
  },
  {
   "cell_type": "markdown",
   "metadata": {},
   "source": [
    "### Setup MF-Package"
   ]
  },
  {
   "cell_type": "code",
   "execution_count": null,
   "metadata": {},
   "outputs": [],
   "source": [
    "modelname = 'model'\n",
    "exe_name = 'mf2005'\n",
    "\n",
    "if platform.system() == 'Windows':\n",
    "    exe_name += '.exe'"
   ]
  },
  {
   "cell_type": "code",
   "execution_count": null,
   "metadata": {},
   "outputs": [],
   "source": [
    "tm = mf.Modflow(modelname=modelname, exe_name=exe_name, version='mf2005', model_ws=workspace)"
   ]
  },
  {
   "cell_type": "markdown",
   "metadata": {},
   "source": [
    "### Setup Discretization Package"
   ]
  },
  {
   "cell_type": "code",
   "execution_count": null,
   "metadata": {},
   "outputs": [],
   "source": [
    "nrow = 1\n",
    "d = 10\n",
    "ncol = 75 + d * 2\n",
    "nlay = 10\n",
    "\n",
    "Lx = 750 + 10 * d * 2\n",
    "Ly = 25\n",
    "\n",
    "botm = np.ones ( (nlay, nrow, ncol), dtype=np.int32 )\n",
    "top = 33 * np.ones ( (nrow, ncol), dtype=np.int32 )\n",
    "\n",
    "# Range does not include upper bound !!!\n",
    "for i in range ( 20 + d, 23 + d ):\n",
    "    top[ :, i ] = 31\n",
    "for i in range ( 37 + d, 38 + d ):\n",
    "    top[ :, i ] = 28\n",
    "for j in range ( 40 + d, 55 + d ):\n",
    "    top[ :, j ] = 32\n",
    "\n",
    "# N1 layer\n",
    "botm[ 0, :, : ] = 28\n",
    "for i in range ( 37 + d, 39 + d ):\n",
    "    botm[ 0, :, i ] = 28\n",
    "# N2 layer\n",
    "for i in range ( 0, 36 + d ):\n",
    "    botm[ 1, :, i ] = 24\n",
    "for i in range ( 36 + d, 38 + d ):\n",
    "    botm[ 1, :, i ] = 25\n",
    "for i in range ( 38 + d, 57 + d ):\n",
    "    botm[ 1, :, i ] = 26\n",
    "for i in range ( 57 + d, ncol ):\n",
    "    botm[ 1, :, i ] = 25\n",
    "# N3 layer\n",
    "for i in range ( 0, 23 + d ):\n",
    "    botm[ 2, :, i ] = 20\n",
    "for i in range ( 23 + d, 36 + d ):\n",
    "    botm[ 2, :, i ] = 21.5\n",
    "for i in range ( 36 + d, 38 + d ):\n",
    "    botm[ 2, :, i ] = 24\n",
    "for i in range ( 38 + d, ncol ):\n",
    "    botm[ 2, :, i ] = 24.5\n",
    "# N4 layer\n",
    "for i in range ( 0, 37 + d ):\n",
    "    botm[ 3, :, i ] = 17\n",
    "for i in range ( 37 + d, 40 + d ):\n",
    "    botm[ 3, :, i ] = 16\n",
    "for i in range ( 40 + d, 50 + d ):\n",
    "    botm[ 3, :, i ] = 15\n",
    "for i in range ( 50 + d, ncol ):\n",
    "    botm[ 3, :, i ] = 20\n",
    "# N5 layer\n",
    "for i in range ( 0, 40 + d ):\n",
    "    botm[ 4, :, i ] = 15\n",
    "for i in range ( 40 + d, 50 + d ):\n",
    "    botm[ 4, :, i ] = 14\n",
    "for i in range ( 50 + d, ncol ):\n",
    "    botm[ 4, :, i ] = 16\n",
    "# N6 layer\n",
    "for i in range ( 0, 50 + d ):\n",
    "    botm[ 5, :, i ] = 13\n",
    "for i in range ( 50 + d, ncol ):\n",
    "    botm[ 5, :, i ] = 15\n",
    "# 7 layer\n",
    "botm[ 6, :, : ] = 10\n",
    "# 8 layer\n",
    "botm[ 7, :, : ] = 9\n",
    "# 9 layer\n",
    "botm[ 8, :, : ] = -12.5\n",
    "# 10 layer\n",
    "botm[ 9, :, : ] = -30\n",
    "\n",
    "delr = Lx / ncol\n",
    "delc = Ly / nrow\n",
    "nper = 3521\n",
    "\n",
    "perlen = 1\n",
    "steady = np.full ( nper, False, dtype=bool )\n",
    "steady[ 0 ] = True"
   ]
  },
  {
   "cell_type": "code",
   "execution_count": null,
   "metadata": {},
   "outputs": [],
   "source": [
    "dis = mf.ModflowDis(\n",
    "    tm, \n",
    "    nlay=nlay,\n",
    "    nrow=nrow, \n",
    "    ncol=ncol, \n",
    "    delr=delr, \n",
    "    delc=delc, \n",
    "    top=top, \n",
    "    botm=botm, \n",
    "    nper=nper, \n",
    "    steady=True\n",
    ")\n",
    "\n",
    "modelxsect= flopy.plot.ModelCrossSection(model=tm, line={'Row':0})\n",
    "linecollection= modelxsect.plot_grid()"
   ]
  },
  {
   "cell_type": "markdown",
   "metadata": {},
   "source": [
    "### Setup Basic-Package"
   ]
  },
  {
   "cell_type": "markdown",
   "metadata": {},
   "source": [
    "Specify boundary conditions and starting heads.\n",
    "\n",
    "We can set one value for all cells."
   ]
  },
  {
   "cell_type": "code",
   "execution_count": null,
   "metadata": {},
   "outputs": [],
   "source": [
    "ibound = np.ones((nlay, nrow, ncol), dtype=np.int32)\n",
    "\n",
    "for i in range ( 1, nlay ):\n",
    "    ibound[ i, :, 0 ] = -1\n",
    "    ibound[ i, :, -1 ] = -1\n",
    "\n",
    "for k in range ( 37 + d, 39 + d ):\n",
    "    ibound[ 0, :, k ] = 0\n",
    "\n",
    "strt = np.ones ( (nlay, nrow, ncol), dtype=np.int32 ) * 28\n",
    "strt[ 1, :, 1 ] = 28\n",
    "strt[ 1, :, -1 ] = 28\n",
    "\n",
    "for i in range ( 20 + d, 23 + d ):\n",
    "    strt[ 0, :, i ] = 30\n",
    "for j in range ( 40 + d, 55 + d ):\n",
    "    strt[ 0, :, j ] = 30\n",
    "    \n",
    "bas = mf.ModflowBas(tm, ibound=ibound, strt=strt)\n",
    "\n",
    "#bas.plot()"
   ]
  },
  {
   "cell_type": "markdown",
   "metadata": {},
   "source": [
    "### Setup Constant Head Boundaries"
   ]
  },
  {
   "cell_type": "code",
   "execution_count": null,
   "metadata": {},
   "outputs": [],
   "source": [
    "csv = pd.read_csv('SPA101.csv', delimiter=',')\n",
    "chd_values = csv.iloc[ :, 2 ].values\n",
    "\n",
    "#chd for each cell\n",
    "#[lay, row, col, shead, ehead]\n",
    "spchd = {}\n",
    "spchd[0] = [\n",
    "    [1, 0, 0, 28, 28 ], \n",
    "    [1, 0, ncol-1, 28, 28]\n",
    "]\n",
    "\n",
    "for layer in range (2, nlay):\n",
    "    spchd[0].append ([layer, 0, 0, 28, 28 ])\n",
    "\n",
    "for stress_period in range ( 1, nper ):\n",
    "    spchd[stress_period] = [[1, 0, 0, chd_values[stress_period - 1], chd_values[stress_period]]]\n",
    "    for layer in range (2, nlay):\n",
    "        spchd[stress_period].append ([layer, 0, 0, chd_values[stress_period-1], chd_values[stress_period]])\n",
    "\n",
    "chd = mf.ModflowChd(tm, stress_period_data=spchd)\n",
    "#chd.plot()"
   ]
  },
  {
   "cell_type": "markdown",
   "metadata": {},
   "source": [
    "### Setup General Head Boundaries"
   ]
  },
  {
   "cell_type": "code",
   "execution_count": null,
   "metadata": {},
   "outputs": [],
   "source": [
    "sp = {}\n",
    "sp[0] = []\n",
    "bas12_data = pd.read_csv ( 'Basin1&2.csv', delimiter=',' ).iloc[ :, 1 ].values\n",
    "bas3_data = pd.read_csv ( 'Basin3.csv', delimiter=',' ).iloc[ :, 1 ].values\n",
    "\n",
    "for col in range ( 20 + d, 23 + d ):\n",
    "    sp[ 0 ].append ( [ 0, 0, col, 31, 1450 ] )\n",
    "    \n",
    "for col in range ( 40 + d, 55 + d ):\n",
    "    sp[ 0 ].append ( [ 0, 0, col, 31, 1500 ] )\n",
    "    \n",
    "for stress_period in range ( 1,  nper ):\n",
    "    sp[ stress_period ] = [ ]\n",
    "    for col in range ( 20 + d, 23 + d ):\n",
    "        sp[ stress_period ].append ( [ 0, 0, col, 29 + 2.5*bas3_data[ stress_period - 1 ], 1800 ] )\n",
    "    for col in range ( 40 + d, 55 + d ):\n",
    "        sp[ stress_period ].append ( [ 0, 0, col, 28.5 + 5*bas12_data[ stress_period - 1 ], 2000 ] )\n",
    "\n",
    "ghb = mf.ModflowGhb (tm, stress_period_data=sp)\n",
    "#ghb.plot()"
   ]
  },
  {
   "cell_type": "markdown",
   "metadata": {},
   "source": [
    "### Setup Wells"
   ]
  },
  {
   "cell_type": "code",
   "execution_count": null,
   "metadata": {},
   "outputs": [],
   "source": [
    "# Pumping Well\n",
    "wel_data = pd.read_csv('Pumping_well.csv', delimiter=',').iloc[:, -2].values\n",
    "\n",
    "spwell = {}\n",
    "spwell[0] = [8, 0, 31 + d, 0]\n",
    "for i in range(1, nper):\n",
    "    spwell[i] = [8, 0, 31 + d, -wel_data[i-1]]\n",
    "\n",
    "wel = mf.ModflowWel(tm, stress_period_data=spwell, ipakcb=53)\n",
    "\n",
    "#wel.plot()"
   ]
  },
  {
   "cell_type": "markdown",
   "metadata": {},
   "source": [
    "### Setup Soilproperties and Flow-Package"
   ]
  },
  {
   "cell_type": "code",
   "execution_count": null,
   "metadata": {},
   "outputs": [],
   "source": [
    "k1 = 2   # fine sand 1.728-7.776\n",
    "k2 = 34  # middle sand 7.776-34.56\n",
    "k3 = 41  # stone 34.56-103.68\n",
    "k4 = 1   # clay\n",
    "k5 = 45  # middle sand2\n",
    "k6 = 6   # fine sand 1.728-7.776\n",
    "\n",
    "# Set default hk-value value to k2\n",
    "hk = np.ones((nlay, nrow, ncol)) * k2\n",
    "\n",
    "# N1 layer\n",
    "hk[0, :, :] = k1  # fine sand\n",
    "\n",
    "# N2 layer\n",
    "hk[1, :, :] = k2  # middle sand\n",
    "\n",
    "# N3 layer\n",
    "for i in range(20 + d, 50 + d):\n",
    "    hk[2, :, i] = k3  # sand & stone\n",
    "for i in range(45 + d, 57 + d):\n",
    "    hk[2, :, i] = k4  # clay\n",
    "\n",
    "#  N4 layer\n",
    "hk[3, :, :] = k5  # middle sand2\n",
    "\n",
    "# N5 layer\n",
    "for i in range(20 + d, 34 + d):\n",
    "    hk[4, :, i] = k3  # sand & stone\n",
    "for i in range(34 + d, 38 + d):\n",
    "    hk[4, :, i] = k4  # clay\n",
    "for i in range(38 + d, 50 + d):\n",
    "    hk[4, :, i] = k3  # sand & stone\n",
    "for i in range(50 + d, 55 + d):\n",
    "    hk[4, :, i] = k4  # clay\n",
    "\n",
    "# N6 layer\n",
    "hk[5, :, :] = k3\n",
    "for i in range(26 + d, 40 + d):\n",
    "    hk[5, :, i] = k6  # fine sand\n",
    "for i in range(40 + d, 50 + d):\n",
    "    hk[5, :, i] = k3  # sand & stone\n",
    "for i in range(50 + d, 55 + d):\n",
    "    hk[5, :, i] = k4  # clay\n",
    "\n",
    "# 7 layer\n",
    "hk[6, :, :] = k5  # middle sand2\n",
    "\n",
    "# 8 layer\n",
    "hk[7, :, :] = k5\n",
    "for i in range(26 + d, 40 + d):\n",
    "    hk[7, :, i] = k6  # fine sand\n",
    "\n",
    "# 9 layer\n",
    "hk[8, :, :] = k5  # middle sand2\n",
    "\n",
    "# 10 layer\n",
    "hk[9, :, :] = k5  # middle sand2\n",
    "\n",
    "# vertical HK\n",
    "vk1 = 4\n",
    "vk2 = 15\n",
    "vk3 = 20\n",
    "vk4 = 0.5\n",
    "vk5 = 20\n",
    "vk6 = 3\n",
    "\n",
    "vka = np.ones((nlay, nrow, ncol), dtype=int) * vk3\n",
    "\n",
    "# N1 layer\n",
    "vka[0, :, :] = vk1  # fine sand\n",
    "\n",
    "# N2 layer\n",
    "vka[1, :, :] = vk2  # middle sand\n",
    "\n",
    "# N3 layer\n",
    "vka[2, :, :] = vk3\n",
    "for i in range(20 + d, 45 + d):\n",
    "    vka[2, :, i] = vk3  # sand & stone\n",
    "for i in range(45 + d, 57 + d):\n",
    "    vka[2, :, i] = vk4  # clay\n",
    "\n",
    "# N4 layer\n",
    "vka[3, :, :] = vk5  # middle sand2\n",
    "\n",
    "# N5 layer\n",
    "for i in range(20 + d, 34 + d):\n",
    "    vka[4, :, i] = vk3  # sand & stone\n",
    "for i in range(34 + d, 38 + d):\n",
    "    vka[4, :, i] = vk4  # clay\n",
    "for i in range(38 + d, 50 + d):\n",
    "    vka[4, :, i] = vk3  # sand & stone\n",
    "for i in range(50 + d, 55 + d):\n",
    "    vka[4, :, i] = vk4  # clay\n",
    "\n",
    "# N6 layer\n",
    "vka[5, :, :] = vk3\n",
    "for i in range(26 + d, 40 + d):\n",
    "    vka[5, :, i] = vk6  # fine sand\n",
    "for i in range(40 + d, 50 + d):\n",
    "    vka[5, :, i] = vk3  # sand & stone\n",
    "for i in range(50 + d, 55 + d):\n",
    "    vka[5, :, i] = vk4  # clay\n",
    "\n",
    "# N7 layer\n",
    "vka[6, :, :] = vk5  # middle sand2\n",
    "\n",
    "# N8 layer\n",
    "vka[7, :, :] = vk5\n",
    "for i in range(26 + d, 40 + d):\n",
    "    vka[7, :, i] = vk6  # fine sand\n",
    "\n",
    "# N9 layer\n",
    "vka[8, :, :] = vk5  # middle sand2\n",
    "\n",
    "# N10 layer\n",
    "vka[9, :, :] = vk5  # middle sand2\n",
    "\n",
    "laytyp = [1, 1, 1, 1, 1, 1, 1, 1, 1, 1]\n",
    "sy = 0.17\n",
    "ss = 1e-4\n",
    "\n",
    "lpf = mf.ModflowLpf(tm, laytyp=laytyp, hk=hk, layvka=0, vka=vka, sy=sy, ss=ss, ipakcb=53)\n",
    "\n",
    "#lpf.plot()"
   ]
  },
  {
   "cell_type": "markdown",
   "metadata": {},
   "source": [
    "### Setup Solver Package and Output-control with defaults"
   ]
  },
  {
   "cell_type": "code",
   "execution_count": null,
   "metadata": {},
   "outputs": [],
   "source": [
    "budgetfile = '{}.cbb'.format(modelname)\n",
    "budget_filerecord = [budgetfile]\n",
    "\n",
    "oc = mf.ModflowOc(tm, \n",
    "                   save_every=True,\n",
    "                   save_types=['print head', 'print budget','print drawdown', 'save head', 'save budget','save drawdown'],\n",
    "                   budget_filerecord=budget_filerecord,\n",
    "                   compact=True\n",
    "                  )\n",
    "\n",
    "pcg = mf.ModflowPcg (tm, rclose=1e-1)"
   ]
  },
  {
   "cell_type": "markdown",
   "metadata": {},
   "source": [
    "### Write Model input and run the model"
   ]
  },
  {
   "cell_type": "code",
   "execution_count": null,
   "metadata": {},
   "outputs": [],
   "source": [
    "tm.write_input()\n",
    "success, buff = tm.run_model()"
   ]
  },
  {
   "cell_type": "markdown",
   "metadata": {},
   "source": [
    "### Read Observations"
   ]
  },
  {
   "cell_type": "code",
   "execution_count": null,
   "metadata": {},
   "outputs": [],
   "source": [
    "headobj = bf.HeadFile(os.path.join(workspace, modelname + '.hds'))\n",
    "\n",
    "#observation wells\n",
    "#well 157\n",
    "ts1 = headobj.get_ts ( idx=(1, 0, 55 + d) )\n",
    "\n",
    "# todo: implement HOB-Package"
   ]
  }
 ],
 "metadata": {
  "kernelspec": {
   "display_name": "Python 3",
   "language": "python",
   "name": "python3"
  },
  "language_info": {
   "codemirror_mode": {
    "name": "ipython",
    "version": 3
   },
   "file_extension": ".py",
   "mimetype": "text/x-python",
   "name": "python",
   "nbconvert_exporter": "python",
   "pygments_lexer": "ipython3",
   "version": "3.5.2"
  }
 },
 "nbformat": 4,
 "nbformat_minor": 2
}
