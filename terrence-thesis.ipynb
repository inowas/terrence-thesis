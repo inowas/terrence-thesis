{
 "cells": [
  {
   "cell_type": "markdown",
   "metadata": {},
   "source": [
    "# Terrence Thesis - Case Study"
   ]
  },
  {
   "cell_type": "markdown",
   "metadata": {},
   "source": [
    "### Import Statements"
   ]
  },
  {
   "cell_type": "code",
   "execution_count": 1,
   "metadata": {},
   "outputs": [],
   "source": [
    "import flopy\n",
    "import flopy.modflow as mf\n",
    "import flopy.utils as fu\n",
    "import flopy.utils.binaryfile as bf\n",
    "import matplotlib as mpl \n",
    "import matplotlib.pyplot as plt\n",
    "import numpy as np\n",
    "import os\n",
    "import pandas as pd\n",
    "import platform\n",
    "import shutil\n",
    "import sys\n",
    "import datetime\n",
    "import math\n",
    "from sklearn.metrics import mean_squared_error as mse\n",
    "import flopy.mt3d as mt3\n",
    "\n",
    "%matplotlib inline"
   ]
  },
  {
   "cell_type": "markdown",
   "metadata": {},
   "source": [
    "### Setup folder where modflow-files are located"
   ]
  },
  {
   "cell_type": "code",
   "execution_count": 2,
   "metadata": {},
   "outputs": [],
   "source": [
    "workspace = os.path.join('mf-data')"
   ]
  },
  {
   "cell_type": "code",
   "execution_count": 3,
   "metadata": {},
   "outputs": [],
   "source": [
    "if os.path.exists(workspace):\n",
    "    shutil.rmtree(workspace)\n",
    "\n",
    "if not os.path.exists(workspace):\n",
    "    os.makedirs(workspace)"
   ]
  },
  {
   "cell_type": "markdown",
   "metadata": {},
   "source": [
    "### Print versions"
   ]
  },
  {
   "cell_type": "code",
   "execution_count": 4,
   "metadata": {},
   "outputs": [
    {
     "name": "stdout",
     "output_type": "stream",
     "text": [
      "3.6.3 (v3.6.3:2c5fed8, Oct  3 2017, 18:11:49) [MSC v.1900 64 bit (AMD64)]\n",
      "numpy version: 1.14.3\n",
      "matplotlib version: 2.1.1\n",
      "flopy version: 3.2.9\n"
     ]
    }
   ],
   "source": [
    "print(sys.version)\n",
    "print('numpy version: {}'.format(np.__version__))\n",
    "print('matplotlib version: {}'.format(mpl.__version__))\n",
    "print('flopy version: {}'.format(flopy.__version__))"
   ]
  },
  {
   "cell_type": "markdown",
   "metadata": {},
   "source": [
    "### Setup MF-Package"
   ]
  },
  {
   "cell_type": "code",
   "execution_count": 5,
   "metadata": {},
   "outputs": [],
   "source": [
    "modelname = 'model'\n",
    "exe_name = 'mf2005'\n",
    "\n",
    "if platform.system() == 'Windows':\n",
    "    exe_name += '.exe'"
   ]
  },
  {
   "cell_type": "code",
   "execution_count": 6,
   "metadata": {},
   "outputs": [],
   "source": [
    "tm = mf.Modflow(modelname=modelname, exe_name=exe_name, version='mf2005', model_ws=workspace)"
   ]
  },
  {
   "cell_type": "markdown",
   "metadata": {},
   "source": [
    "### Setup Discretization Package"
   ]
  },
  {
   "cell_type": "code",
   "execution_count": 7,
   "metadata": {},
   "outputs": [],
   "source": [
    "nrow = 1\n",
    "ncol = 95\n",
    "nlay = 10\n",
    "\n",
    "Lx = 950\n",
    "Ly = 25\n",
    "\n",
    "botm = np.ones ( (nlay, nrow, ncol), dtype=np.int32 )\n",
    "top = 33 * np.ones ( (nrow, ncol), dtype=np.int32 )\n",
    "\n",
    "# Range does not include upper bound !!!\n",
    "for i in range ( 30, 33):\n",
    "    top[ :, i ] = 31\n",
    "for i in range ( 47, 48 ):\n",
    "    top[ :, i ] = 28\n",
    "for i in range ( 50, 65):\n",
    "    top[ :, i ] = 32\n",
    "\n",
    "# N1 layer\n",
    "botm[ 0, :, : ] = 28\n",
    "for i in range ( 47, 49):\n",
    "    botm[ 0, :, i ] = 28\n",
    "# N2 layer46 \n",
    "for i in range ( 0, 46):\n",
    "    botm[ 1, :, i ] = 24\n",
    "for i in range ( 46, 48 ):\n",
    "    botm[ 1, :, i ] = 25\n",
    "for i in range ( 48, 67 ):\n",
    "    botm[ 1, :, i ] = 26\n",
    "for i in range ( 67, ncol ):\n",
    "    botm[ 1, :, i ] = 25\n",
    "# N3 layer\n",
    "for i in range ( 0, 33 ):\n",
    "    botm[ 2, :, i ] = 20\n",
    "for i in range ( 33, 46 ):\n",
    "    botm[ 2, :, i ] = 21.5\n",
    "for i in range ( 46, 48 ):\n",
    "    botm[ 2, :, i ] = 24\n",
    "for i in range ( 48, ncol ):\n",
    "    botm[ 2, :, i ] = 24.5\n",
    "# N4 layer\n",
    "for i in range ( 0, 47 ):\n",
    "    botm[ 3, :, i ] = 17\n",
    "for i in range ( 47, 50 ):\n",
    "    botm[ 3, :, i ] = 16\n",
    "for i in range ( 50, 60 ):\n",
    "    botm[ 3, :, i ] = 15\n",
    "for i in range ( 60, ncol ):\n",
    "    botm[ 3, :, i ] = 20\n",
    "# N5 layer\n",
    "for i in range ( 0, 50 ):\n",
    "    botm[ 4, :, i ] = 15\n",
    "for i in range ( 50, 60 ):\n",
    "    botm[ 4, :, i ] = 14\n",
    "for i in range ( 60, ncol ):\n",
    "    botm[ 4, :, i ] = 16\n",
    "# N6 layer\n",
    "for i in range ( 0, 60 ):\n",
    "    botm[ 5, :, i ] = 13\n",
    "for i in range ( 60, ncol ):\n",
    "    botm[ 5, :, i ] = 15\n",
    "# 7 layer\n",
    "botm[ 6, :, : ] = 10\n",
    "# 8 layer\n",
    "botm[ 7, :, : ] = 9\n",
    "# 9 layer\n",
    "botm[ 8, :, : ] = -12.5\n",
    "# 10 layer\n",
    "botm[ 9, :, : ] = -30\n",
    "\n",
    "delr = Lx / ncol\n",
    "delc = Ly / nrow\n",
    "nper = 3521\n",
    "\n",
    "perlen = 1\n",
    "steady = np.full ( nper, False, dtype=bool )\n",
    "steady[ 0 ] = True"
   ]
  },
  {
   "cell_type": "code",
   "execution_count": 8,
   "metadata": {},
   "outputs": [
    {
     "data": {
      "image/png": "[encoded data removed]",
      "text/plain": [
       "<matplotlib.figure.Figure at 0x2053d6ae160>"
      ]
     },
     "metadata": {},
     "output_type": "display_data"
    }
   ],
   "source": [
    "dis = mf.ModflowDis(\n",
    "    tm, \n",
    "    nlay=nlay,\n",
    "    nrow=nrow, \n",
    "    ncol=ncol, \n",
    "    delr=delr, \n",
    "    delc=delc, \n",
    "    top=top, \n",
    "    botm=botm, \n",
    "    nper=nper, \n",
    "    steady=steady\n",
    ")\n",
    "\n",
    "modelxsect= flopy.plot.ModelCrossSection(model=tm, line={'Row':0})\n",
    "linecollection= modelxsect.plot_grid()"
   ]
  },
  {
   "cell_type": "markdown",
   "metadata": {},
   "source": [
    "### Setup Basic-Package"
   ]
  },
  {
   "cell_type": "markdown",
   "metadata": {},
   "source": [
    "Specify boundary conditions and starting heads.\n",
    "\n",
    "We can set one value for all cells."
   ]
  },
  {
   "cell_type": "code",
   "execution_count": 9,
   "metadata": {},
   "outputs": [],
   "source": [
    "ibound = np.ones((nlay, nrow, ncol), dtype=np.int32)\n",
    "\n",
    "for i in range ( 1, nlay ):\n",
    "    ibound[ i, :, 0 ] = -1\n",
    "    ibound[ i, :, -1 ] = -1\n",
    "\n",
    "for k in range ( 47, 49 ):\n",
    "    ibound[ 0, :, k ] = 0\n",
    "\n",
    "strt = np.ones ( (nlay, nrow, ncol), dtype=np.int32 ) * 28\n",
    "strt[ 1, :, 1 ] = 28\n",
    "strt[ 1, :, -1 ] = 28\n",
    "\n",
    "for i in range ( 30, 33 ):\n",
    "    strt[ 0, :, i ] = 30\n",
    "for j in range ( 50, 65 ):\n",
    "    strt[ 0, :, j ] = 30\n",
    "    \n",
    "bas = mf.ModflowBas(tm, ibound=ibound, strt=strt)\n",
    "\n",
    "#bas.plot()"
   ]
  },
  {
   "cell_type": "markdown",
   "metadata": {},
   "source": [
    "### Setup Constant Head Boundaries"
   ]
  },
  {
   "cell_type": "code",
   "execution_count": 10,
   "metadata": {},
   "outputs": [],
   "source": [
    "csv = pd.read_csv('SPA101.csv', delimiter=',')\n",
    "chd_values = csv.iloc[ :, 2 ].values\n",
    "\n",
    "#chd for each cell\n",
    "#[lay, row, col, shead, ehead]\n",
    "spchd = {}\n",
    "spchd[0] = [\n",
    "    [1, 0, 0, 28, 28 ], \n",
    "    [1, 0, ncol-1, 28, 28]\n",
    "]\n",
    "\n",
    "for layer in range (2, nlay):\n",
    "    spchd[0].append ([layer, 0, 0, 28, 28 ])\n",
    "\n",
    "for stress_period in range ( 1, nper ):\n",
    "    spchd[stress_period] = [[1, 0, 0, chd_values[stress_period - 1], chd_values[stress_period]]]\n",
    "    for layer in range (2, nlay):\n",
    "        spchd[stress_period].append ([layer, 0, 0, chd_values[stress_period-1], chd_values[stress_period]])\n",
    "\n",
    "chd = mf.ModflowChd(tm, stress_period_data=spchd)\n",
    "#chd.plot()"
   ]
  },
  {
   "cell_type": "markdown",
   "metadata": {},
   "source": [
    "### Setup General Head Boundaries"
   ]
  },
  {
   "cell_type": "code",
   "execution_count": 11,
   "metadata": {},
   "outputs": [],
   "source": [
    "sp = {}\n",
    "sp[0] = []\n",
    "bas12_data = pd.read_csv ( 'Basin1&2.csv', delimiter=',' ).iloc[ :, 1 ].values\n",
    "bas3_data = pd.read_csv ( 'Basin3.csv', delimiter=',' ).iloc[ :, 1 ].values\n",
    "\n",
    "for col in range ( 30, 33 ):\n",
    "    sp[ 0 ].append ( [ 0, 0, col, 31, 1450 ] )\n",
    "    \n",
    "for col in range ( 50, 65 ):\n",
    "    sp[ 0 ].append ( [ 0, 0, col, 31, 1500 ] )\n",
    "    \n",
    "for stress_period in range ( 1,  nper ):\n",
    "    sp[ stress_period ] = [ ]\n",
    "    for col in range ( 30, 33 ):\n",
    "        sp[ stress_period ].append ( [ 0, 0, col, 29 + 2.5*bas3_data[ stress_period - 1 ], 1800 ] )\n",
    "    for col in range ( 50, 65 ):\n",
    "        sp[ stress_period ].append ( [ 0, 0, col, 28.5 + 5*bas12_data[ stress_period - 1 ], 2000 ] )\n",
    "\n",
    "ghb = mf.ModflowGhb (tm, stress_period_data=sp)\n",
    "#ghb.plot()"
   ]
  },
  {
   "cell_type": "markdown",
   "metadata": {},
   "source": [
    "### Setup Wells"
   ]
  },
  {
   "cell_type": "code",
   "execution_count": 12,
   "metadata": {},
   "outputs": [],
   "source": [
    "# Pumping Well\n",
    "wel_data = pd.read_csv('Pumping_well.csv', delimiter=',').iloc[:, -2].values\n",
    "\n",
    "spwell = {}\n",
    "spwell[0] = [8, 0, 41, 0]\n",
    "for i in range(1, nper):\n",
    "    spwell[i] = [8, 0, 41, -wel_data[i-1]]\n",
    "\n",
    "wel = mf.ModflowWel(tm, stress_period_data=spwell, ipakcb=53)\n",
    "\n",
    "#wel.plot()"
   ]
  },
  {
   "cell_type": "markdown",
   "metadata": {},
   "source": [
    "### Setup Soil properties and Flow-Package"
   ]
  },
  {
   "cell_type": "code",
   "execution_count": 13,
   "metadata": {},
   "outputs": [],
   "source": [
    "k1 = 2   # fine sand 1.728-7.776\n",
    "k2 = 34  # middle sand 7.776-34.56\n",
    "k3 = 41  # stone 34.56-103.68\n",
    "k4 = 1   # clay\n",
    "k5 = 45  # middle sand2\n",
    "k6 = 6   # fine sand 1.728-7.776\n",
    "\n",
    "# Set default hk-value value to k2\n",
    "hk = np.ones((nlay, nrow, ncol)) * k2\n",
    "\n",
    "# N1 layer\n",
    "hk[0, :, :] = k1  # fine sand\n",
    "\n",
    "# N2 layer\n",
    "hk[1, :, :] = k2  # middle sand\n",
    "\n",
    "# N3 layer\n",
    "for i in range( 30, 60 ):\n",
    "    hk[2, :, i] = k3  # sand & stone\n",
    "for i in range( 55, 67 ):\n",
    "    hk[2, :, i] = k4  # clay\n",
    "\n",
    "#  N4 layer\n",
    "hk[3, :, :] = k5  # middle sand2\n",
    "\n",
    "# N5 layer\n",
    "for i in range( 30, 44 ):\n",
    "    hk[4, :, i] = k3  # sand & stone\n",
    "for i in range( 44, 48 ):\n",
    "    hk[4, :, i] = k4  # clay\n",
    "for i in range( 48, 60 ):\n",
    "    hk[4, :, i] = k3  # sand & stone\n",
    "for i in range( 60, 65 ):\n",
    "    hk[4, :, i] = k4  # clay\n",
    "\n",
    "# N6 layer\n",
    "hk[5, :, :] = k3\n",
    "for i in range(36, 50 ):\n",
    "    hk[5, :, i] = k6  # fine sand\n",
    "for i in range( 50, 60 ):\n",
    "    hk[5, :, i] = k3  # sand & stone\n",
    "for i in range( 60, 65 ):\n",
    "    hk[5, :, i] = k4  # clay\n",
    "\n",
    "# 7 layer\n",
    "hk[6, :, :] = k5  # middle sand2\n",
    "\n",
    "# 8 layer\n",
    "hk[7, :, :] = k5\n",
    "for i in range(36 , 50 ):\n",
    "    hk[7, :, i] = k6  # fine sand\n",
    "\n",
    "# 9 layer\n",
    "hk[8, :, :] = k5  # middle sand2\n",
    "\n",
    "# 10 layer\n",
    "hk[9, :, :] = k5  # middle sand2\n",
    "\n",
    "# vertical HK\n",
    "vk1 = 4\n",
    "vk2 = 15\n",
    "vk3 = 20\n",
    "vk4 = 0.5\n",
    "vk5 = 20\n",
    "vk6 = 3\n",
    "\n",
    "vka = np.ones((nlay, nrow, ncol), dtype=int) * vk3\n",
    "\n",
    "# N1 layer\n",
    "vka[0, :, :] = vk1  # fine sand\n",
    "\n",
    "# N2 layer\n",
    "vka[1, :, :] = vk2  # middle sand\n",
    "\n",
    "# N3 layer\n",
    "vka[2, :, :] = vk3\n",
    "for i in range( 30, 55 ):\n",
    "    vka[2, :, i] = vk3  # sand & stone\n",
    "for i in range( 55, 67 ):\n",
    "    vka[2, :, i] = vk4  # clay\n",
    "\n",
    "# N4 layer\n",
    "vka[3, :, :] = vk5  # middle sand2\n",
    "\n",
    "# N5 layer\n",
    "for i in range( 30, 44 ):\n",
    "    vka[4, :, i] = vk3  # sand & stone\n",
    "for i in range( 44, 48 ):\n",
    "    vka[4, :, i] = vk4  # clay\n",
    "for i in range( 48, 60 ):\n",
    "    vka[4, :, i] = vk3  # sand & stone\n",
    "for i in range( 60, 65 ):\n",
    "    vka[4, :, i] = vk4  # clay\n",
    "\n",
    "# N6 layer\n",
    "vka[5, :, :] = vk3\n",
    "for i in range( 36, 50 ):\n",
    "    vka[5, :, i] = vk6  # fine sand\n",
    "for i in range( 50, 60 ):\n",
    "    vka[5, :, i] = vk3  # sand & stone\n",
    "for i in range( 60, 65 ):\n",
    "    vka[5, :, i] = vk4  # clay\n",
    "\n",
    "# N7 layer\n",
    "vka[6, :, :] = vk5  # middle sand2\n",
    "\n",
    "# N8 layer\n",
    "vka[7, :, :] = vk5\n",
    "for i in range( 36, 50):\n",
    "    vka[7, :, i] = vk6  # fine sand\n",
    "\n",
    "# N9 layer\n",
    "vka[8, :, :] = vk5  # middle sand2\n",
    "\n",
    "# N10 layer\n",
    "vka[9, :, :] = vk5  # middle sand2\n",
    "\n",
    "laytyp = [1, 1, 1, 1, 1, 1, 1, 1, 1, 1]\n",
    "\n",
    "sy = 0.17\n",
    "ss = 1e-4\n",
    "\n",
    "lpf = mf.ModflowLpf(tm, laytyp=laytyp, hk=hk, layvka=0, vka=vka, sy=sy, ss=ss, ipakcb=53)\n",
    "\n",
    "#lpf.plot()"
   ]
  },
  {
   "cell_type": "markdown",
   "metadata": {},
   "source": [
    "### Head Observation Wells"
   ]
  },
  {
   "cell_type": "code",
   "execution_count": 14,
   "metadata": {},
   "outputs": [],
   "source": [
    "obs = [ ]\n",
    "col = [65,48,46]\n",
    "\n",
    "name = ['SPA157','SPA168','SPA165']\n",
    "\n",
    "for j in range (0,3):\n",
    "    head = pd.read_csv(name[j]+'.csv',delimiter=',')\n",
    "    t = head.iloc[ :, 0 ].values\n",
    "    h = head.iloc[ :, 1 ].values\n",
    "    sp = [ ]\n",
    "    for i in range ( 0, len ( t ) ):\n",
    "        sp.append ( [ t[ i ], h[ i ] ] )\n",
    "    ho = flopy.modflow.HeadObservation (\n",
    "    tm,\n",
    "    obsname = name[j],\n",
    "    layer= 1,\n",
    "    row= 0,\n",
    "    column= col[j],\n",
    "    time_series_data= sp\n",
    "    )\n",
    "    obs.append ( ho )\n",
    "       \n",
    "hob = flopy.modflow.ModflowHob (\n",
    "    tm,\n",
    "    iuhobsv=1051,\n",
    "    hobdry=-9999.,\n",
    "    obs_data=obs\n",
    ")"
   ]
  },
  {
   "cell_type": "markdown",
   "metadata": {},
   "source": [
    "### Setup Solver Package and Output-control with defaults"
   ]
  },
  {
   "cell_type": "code",
   "execution_count": 15,
   "metadata": {},
   "outputs": [],
   "source": [
    "budgetfile = '{}.cbb'.format(modelname)\n",
    "budget_filerecord = [budgetfile]\n",
    "\n",
    "oc = mf.ModflowOc(tm, \n",
    "                   save_every=True,\n",
    "                   save_types=['print head', 'print budget','print drawdown', 'save head', 'save budget','save drawdown'],\n",
    "                   budget_filerecord=budget_filerecord,\n",
    "                   compact=True\n",
    "                  )\n",
    "\n",
    "pcg = mf.ModflowPcg (tm, rclose=1e-1)\n",
    "\n",
    "lmt = flopy.modflow.ModflowLmt ( tm, output_file_name = modelname + '.ftl', output_file_header='extended',\n",
    "                                 output_file_format='formatted')"
   ]
  },
  {
   "cell_type": "markdown",
   "metadata": {},
   "source": [
    "### Write Model input and run the model"
   ]
  },
  {
   "cell_type": "code",
   "execution_count": null,
   "metadata": {},
   "outputs": [],
   "source": [
    "tm.write_input()\n",
    "success = tm.run_model(silent=True)"
   ]
  },
  {
   "cell_type": "markdown",
   "metadata": {},
   "source": [
    "### Read and Plot Head Observations"
   ]
  },
  {
   "cell_type": "code",
   "execution_count": null,
   "metadata": {},
   "outputs": [],
   "source": [
    "#observation wells\n",
    "\n",
    "if os.path.isfile('model.hob.out'):\n",
    "    obs = pd.read_csv('model.hob.out',delimiter='  ', header = 0, usecols = [0,1,2],index_col= 2)\n",
    "else:\n",
    "    os.chdir(workspace)\n",
    "    obs = pd.read_csv('model.hob.out',delimiter='  ', header = 0, usecols = [0,1,2],index_col =2)\n",
    "\n",
    "name = ['SPA157','SPA168','SPA165']\n",
    "\n",
    "for j in range (0,3):\n",
    "    index = [i for i in obs.index if name[j] in i]\n",
    "    x = obs.loc[index]\n",
    "    h1 = x.iloc[ :, 0 ].values\n",
    "    h2 = x.iloc[ :, 1 ].values\n",
    "\n",
    "    rmse = math.sqrt ( mse ( h1, h2 ) )\n",
    "    rmse = '{:01.2f}'.format(rmse)\n",
    "    u = []\n",
    "    u = h1-h2\n",
    "    a = h1 - h1\n",
    "    plt.plot(h2,a,c='slategray',label='Standard')\n",
    "    plt.scatter(h2,u,s=5,label='Differences',c = 'darkcyan')\n",
    "    plt.legend(['Standard','Differences'])\n",
    "    plt.xlabel('Observation (m)',horizontalalignment='right',x=1.0)\n",
    "    plt.ylabel('Errors (model - observation) (m)')\n",
    "    plt.title( name[j] + '(RMSE = ' + str ( rmse )+')', loc='right')\n",
    "    plt.show()\n",
    "\n",
    "\n",
    "    x = [int(min(h2)),32]\n",
    "    y = [int(min(h2)),32]\n",
    "    plt.scatter(h1,h2,s = 5,c='slategray')\n",
    "    plt.plot(x,y,c='darkcyan')\n",
    "    plt.ylim(int(min(h2)),32)\n",
    "    plt.xlim(int(min(h2)),32)\n",
    "    plt.xlabel('Model results (m)')\n",
    "    plt.ylabel('Observation values (m)')\n",
    "    plt.subplot().spines['right'].set_color('none')\n",
    "    plt.subplot().spines['top'].set_color('none')\n",
    "    plt.subplot()\n",
    "    plt.title(name[j] + '(RMSE = ' + str ( rmse )+')', loc='right')\n",
    "    plt.show()\n",
    "    \n",
    "\n",
    "\n",
    "    "
   ]
  },
  {
   "cell_type": "markdown",
   "metadata": {},
   "source": [
    "### Read temperature data in the basins"
   ]
  },
  {
   "cell_type": "code",
   "execution_count": null,
   "metadata": {},
   "outputs": [],
   "source": [
    "if os.path.isfile('Basin-T.csv'):\n",
    "    heat = pd.read_csv('Basin-T.csv',delimiter=',')\n",
    "else:\n",
    "    os.chdir(\"..\")\n",
    "    heat = pd.read_csv('Basin-T.csv',delimiter=',')\n",
    "\n",
    "heat_basin = heat.iloc[:,3].values\n",
    "#print (heat, heat_basin)\n",
    "\n",
    "    \n"
   ]
  },
  {
   "cell_type": "markdown",
   "metadata": {},
   "source": [
    "### MT3DMS "
   ]
  },
  {
   "cell_type": "code",
   "execution_count": null,
   "metadata": {},
   "outputs": [],
   "source": [
    "mt = flopy.mt3d.Mt3dms(modelname = 'heat',version='mt3dms',  exe_name='mt3dms5b', \n",
    "                       model_ws = workspace, \n",
    "                       modflowmodel = tm, ftlfilename = modelname + \".ftl\", verbose = True)\n",
    "\n",
    "adv = mt3.Mt3dAdv(mt, mixelm = 0, percel = 0.75)\n",
    "icbund = np.ones((nlay, nrow, ncol), dtype=np.int32)\n",
    "icbund[:,:,0] = -1\n",
    "icbund[:,:,-1] = -1\n",
    "sconc_1 = np.ones((nlay, nrow, ncol)) * 10\n",
    "\n",
    "for i in range ( 30, 55):\n",
    "    sconc_1[ :, :, i ] = 16\n",
    "for i in range ( 38, 45):\n",
    "    sconc_1[ :, :, i ] = 13.5\n",
    "for i in range ( 30, 33):\n",
    "    sconc_1[ 0, :, i] = 12\n",
    "for j in range ( 50, 65):\n",
    "    sconc_1[ 0, :, j] = 12\n",
    "    \n",
    "obs = [ ( 8, 0, 41)]\n",
    "\n",
    "btn = mt3.Mt3dBtn(mt,icbund= icbund, ncomp=1,mcomp=0, sconc = sconc_1, prsity = 0.17, species_names=['heat'], obs=obs,\n",
    "                nprobs=1)\n",
    "dsp = mt3.Mt3dDsp(mt, al=10, trpt=0.01,trpv = 0.01, dmcoef= 0.019891)\n",
    "gcg = mt3.Mt3dGcg(mt, mxiter=100,iter1=25,isolve = 1,cclose = 1e-2)\n",
    "rct = mt3.Mt3dRct(mt,isothm=1,ireact=0, prsity2=0.17, igetsc=0 ,sp1= 1.15e-3,)\n",
    "\n",
    "ssm_data = {}\n",
    "ssm_data[0] = []\n",
    "\n",
    "itype = flopy.mt3d.Mt3dSsm.itype_dict()\n",
    "\n",
    "for i in range( 30, 33):\n",
    "    ssm_data[0] = ssm_data[0]+ [[0, 0, i, 14 , itype[ 'GHB' ]]]\n",
    "for i in range ( 50, 65):\n",
    "    ssm_data[0].append( [ 0, 0, i, 14, itype[ 'GHB' ] ] )\n",
    "    \n",
    "for j in range (1,1955):\n",
    "    ssm_data[ j ] = [ ]\n",
    "    for i in range ( 30, 33):\n",
    "         ssm_data[ j ].append ( [ 0, 0, i, heat_basin[ j - 1 ], itype[ 'GHB' ] ] )\n",
    "    for i in range ( 50, 65):\n",
    "         ssm_data[ j ].append ( [ 0, 0, i, heat_basin[ j - 1 ], itype[ 'GHB' ] ] )\n",
    "for j in range(1955,nper):\n",
    "    ssm_data[ j ] = [ ]\n",
    "    for i in range ( 30, 33):\n",
    "        ssm_data[ j ].append ( [ 0, 0, i, 14, itype[ 'GHB' ] ] )\n",
    "    for i in range ( 50, 65):\n",
    "        ssm_data[ j ].append ( [ 0, 0, i, 14, itype[ 'GHB' ] ] )\n",
    "\n",
    "\n",
    "ssm = flopy.mt3d.Mt3dSsm(mt, stress_period_data=ssm_data)\n",
    "\n",
    "mt.write_input()\n",
    "mt.run_model(silent=True)\n"
   ]
  },
  {
   "cell_type": "markdown",
   "metadata": {},
   "source": [
    "### Read MT3DMs Output Files"
   ]
  },
  {
   "cell_type": "code",
   "execution_count": null,
   "metadata": {},
   "outputs": [],
   "source": [
    "if os.path.isfile('N5_T.csv'):\n",
    "    n = pd.read_csv('N5_T.csv',delimiter=',',header=0,skip_blank_lines=True,index_col=0)\n",
    "    w = pd.read_csv('N6_T.csv',delimiter=',',header=0, index_col=0)\n",
    "else:\n",
    "    os.chdir(\"..\")\n",
    "    n = pd.read_csv('N5_T.csv',delimiter=',',header=0,skip_blank_lines=True,index_col=0)\n",
    "    w = pd.read_csv('N6_T.csv',delimiter=',',header=0 ,index_col=0)\n",
    "if os.path.isfile('MT3D001.OBS'):\n",
    "    t = pd.read_csv('MT3D001.OBS',delimiter=' ', nrows=2000,skiprows=[0,1],skipinitialspace=True,skip_blank_lines=True,usecols=[1,2],index_col=0)\n",
    "\n",
    "else:\n",
    "    os.chdir(workspace)\n",
    "    t = pd.read_csv('MT3D001.OBS',delimiter=' ', nrows=2000,skiprows=[0,1],skipinitialspace=True,skip_blank_lines=True,usecols=[1,2],index_col=0)\n",
    "#print (n,w,t) \n"
   ]
  },
  {
   "cell_type": "markdown",
   "metadata": {},
   "source": [
    "### Plot MT3DMS Output Files"
   ]
  },
  {
   "cell_type": "code",
   "execution_count": null,
   "metadata": {},
   "outputs": [],
   "source": [
    "t1 = t.index.values\n",
    "y1 = []\n",
    "for i in t1:\n",
    "    y1.append([datetime.date(2005,5,11)+datetime.timedelta(i-1)])\n",
    "t2 = t.iloc[:,0].values\n",
    "\n",
    "\n",
    "n1 = n.index.values\n",
    "y2 = []\n",
    "for i in n1:\n",
    "    y2.append([datetime.date(2005,5,11)+datetime.timedelta(np.float64(i-1))])\n",
    "n2 = n.iloc[:,0].values\n",
    "\n",
    "w1 = w.index.values\n",
    "y3 = []\n",
    "for i in w1:\n",
    "    y3.append([datetime.date(2005,5,11)+datetime.timedelta(np.float64(i-1))])\n",
    "w2 = w.iloc[:,0].values\n",
    "\n",
    "plt.plot(y1,t2,c='olive')\n",
    "plt.scatter(y2,n2,c='orange',s=2)\n",
    "plt.scatter(y3,w2,c='springgreen',s=2)\n",
    "plt.legend(['model','ObservationN5','ObservationN6'])\n",
    "plt.xlabel ( 'Date' )\n",
    "plt.ylabel ( 'Temperature (°C)' )\n",
    "plt.title('Temperature Simulation')\n",
    "#plt.savefig('temperature.png')\n",
    "plt.show()\n",
    "plt.close()\n",
    "\n",
    "x = t.join(n, how='inner')\n",
    "v1 = x.iloc[:,0].values\n",
    "v2 = x.iloc[:,1].values\n",
    "x1 = [7,18]\n",
    "y1 = [7,18]\n",
    "plt.scatter(v1,v2,s = 5,c='slategray')\n",
    "plt.plot(x1,y1,c='darkcyan')\n",
    "plt.ylim(7,18)\n",
    "plt.xlim(7,18)\n",
    "plt.xlabel ( 'Model Results' )\n",
    "plt.ylabel ( 'Observation Temperature (Well NO.6)' )\n",
    "rmse =  math.sqrt ( mse ( v1, v2 ) )\n",
    "rmse = '{:01.2f}'.format(rmse)\n",
    "plt.title('Well NO.6 (RMSE = ' + str (rmse)+')')\n",
    "plt.show()\n",
    "plt.close()\n",
    "\n",
    "\n",
    "x = t.join(w, how='inner')\n",
    "v1=x.iloc[:,0].values\n",
    "v2 = x.iloc[:,1].values\n",
    "x = [7,18]\n",
    "y = [7,18]\n",
    "plt.scatter(v1,v2,s = 5,c='slategray')\n",
    "plt.plot(x,y,c='darkcyan')\n",
    "plt.ylim(7,18)\n",
    "plt.xlim(7,18)\n",
    "plt.xlabel ( 'Model Results' )\n",
    "plt.ylabel ( 'Observation Temperature (Well NO.5)' )\n",
    "rmse =  math.sqrt ( mse ( v1, v2 ) )\n",
    "rmse = '{:01.2f}'.format(rmse)\n",
    "plt.title('Well NO.5 (RMSE = ' + str (rmse)+')')\n",
    "plt.show()\n",
    "plt.close()"
   ]
  },
  {
   "cell_type": "code",
   "execution_count": null,
   "metadata": {},
   "outputs": [],
   "source": []
  }
 ],
 "metadata": {
  "kernelspec": {
   "display_name": "Python 3",
   "language": "python",
   "name": "python3"
  },
  "language_info": {
   "codemirror_mode": {
    "name": "ipython",
    "version": 3
   },
   "file_extension": ".py",
   "mimetype": "text/x-python",
   "name": "python",
   "nbconvert_exporter": "python",
   "pygments_lexer": "ipython3",
   "version": "3.6.3"
  }
 },
 "nbformat": 4,
 "nbformat_minor": 2
}
