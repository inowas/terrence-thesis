{
 "cells": [
  {
   "cell_type": "markdown",
   "metadata": {},
   "source": [
    "# Parameters for heat transport"
   ]
  },
  {
   "cell_type": "markdown",
   "metadata": {},
   "source": [
    "***Providing a brief idea about the heat transport parameters***"
   ]
  },
  {
   "cell_type": "code",
   "execution_count": 1,
   "metadata": {},
   "outputs": [],
   "source": [
    "import pandas as pd\n",
    "import math\n",
    "import matplotlib.pyplot as plt\n",
    "import numpy\n",
    "import sympy as sym"
   ]
  },
  {
   "cell_type": "code",
   "execution_count": 3,
   "metadata": {},
   "outputs": [],
   "source": [
    "p = 0.35 #porosity #(Find it in the report)\n",
    "kts = 3 #Thermal conductivities of solid\n",
    "ktw = 0.58 #Thermal conductivities of water\n",
    "ρs = 2.6e3 #density of solid\n",
    "ρw = 1e3 #density of water\n",
    "cw = 4.2e3 #specific heat of water\n",
    "cs = 1e3 #specific heat of solid"
   ]
  },
  {
   "cell_type": "code",
   "execution_count": 4,
   "metadata": {},
   "outputs": [
    {
     "name": "stdout",
     "output_type": "stream",
     "text": [
      "ρb = 1690.0\n",
      "ko = 2.153\n",
      "dt = 0.12654367346938777\n",
      "kd = 0.0002380952380952381\n",
      "Rd = 2.1496598639455784\n"
     ]
    }
   ],
   "source": [
    "ρb = (1-p)*ρs #bulk density\n",
    "print ('ρb =',ρb)\n",
    "ko = kts*(1-p)+ktw*p # Thermal conductivities of bulk\n",
    "print ('ko =', ko)\n",
    "dt = ko/p/ρw/cw * 3600*24 # Thermal diffusivity\n",
    "print('dt =', dt)\n",
    "kd = cs/ρw/cw # Thermal distribution coefficient\n",
    "print('kd =', kd)\n",
    "R = 1 + (1-p)/p*kd*ρs # Retardation factor\n",
    "print ('Rd =', R)"
   ]
  }
 ],
 "metadata": {
  "kernelspec": {
   "display_name": "Python 3",
   "language": "python",
   "name": "python3"
  },
  "language_info": {
   "codemirror_mode": {
    "name": "ipython",
    "version": 3
   },
   "file_extension": ".py",
   "mimetype": "text/x-python",
   "name": "python",
   "nbconvert_exporter": "python",
   "pygments_lexer": "ipython3",
   "version": "3.6.3"
  }
 },
 "nbformat": 4,
 "nbformat_minor": 2
}
